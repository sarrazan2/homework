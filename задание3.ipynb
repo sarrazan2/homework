{
 "cells": [
  {
   "cell_type": "code",
   "execution_count": 41,
   "id": "147fa3cd-d0f4-4ca7-b750-13be21ddc2b0",
   "metadata": {},
   "outputs": [
    {
     "name": "stdin",
     "output_type": "stream",
     "text": [
      " 985302\n"
     ]
    },
    {
     "name": "stdout",
     "output_type": "stream",
     "text": [
      "2 * 3 * 3 * 19 * 43 * 67\n"
     ]
    }
   ],
   "source": [
    "def prime_factors(number):\n",
    "    a = 2\n",
    "    Factors = []\n",
    "    while a*a <= number:\n",
    "        if number % a == 0:\n",
    "            Factors.append(a)\n",
    "            number //= a\n",
    "        elif number % a != 0:\n",
    "            a += 1\n",
    "    if number > 1:\n",
    "            Factors.append(number)\n",
    "    return(Factors)\n",
    "\n",
    "number = int(input())\n",
    "A = prime_factors(number)\n",
    "\n",
    "print(*A, sep = ' * ')"
   ]
  }
 ],
 "metadata": {
  "kernelspec": {
   "display_name": "Python 3 (ipykernel)",
   "language": "python",
   "name": "python3"
  },
  "language_info": {
   "codemirror_mode": {
    "name": "ipython",
    "version": 3
   },
   "file_extension": ".py",
   "mimetype": "text/x-python",
   "name": "python",
   "nbconvert_exporter": "python",
   "pygments_lexer": "ipython3",
   "version": "3.12.4"
  }
 },
 "nbformat": 4,
 "nbformat_minor": 5
}
