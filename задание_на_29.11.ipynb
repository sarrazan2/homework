{
 "cells": [
  {
   "cell_type": "code",
   "execution_count": 1,
   "id": "4d89c9f4-068e-4afc-a22e-3b16e58ae8ee",
   "metadata": {},
   "outputs": [],
   "source": [
    "#класс\n",
    "import math\n",
    "\n",
    "class your_polygon:\n",
    "    def __init__(self, side_length, num_sides):\n",
    "        self.side_length = side_length\n",
    "        self.num_sides = num_sides\n",
    "\n",
    "    def area(self):\n",
    "        apothem = self.side_length / (2 * math.tan(math.pi / self.num_sides))\n",
    "        area = 0.5 * self.num_sides * self.side_length * apothem\n",
    "        return {\"area\": f\"{area:.2f}\"}\n",
    "\n",
    "    def perimeter(self):\n",
    "        perimeter = self.num_sides * self.side_length\n",
    "        return {\"perimeter\": f\"{perimeter}\"}"
   ]
  },
  {
   "cell_type": "code",
   "execution_count": 22,
   "id": "0faefcbc-a547-4772-a14c-fdca616fad44",
   "metadata": {},
   "outputs": [],
   "source": [
    "#декоратор класса\n",
    "def check_polygon(cls):\n",
    "    def check(self, side_length, num_sides):\n",
    "        if num_sides < 3 or side_length <= 0:\n",
    "            return {\"error\": \"Количество сторон должно быть не меньше 3, а длина стороны больше 0.\"}\n",
    "\n",
    "    return cls"
   ]
  },
  {
   "cell_type": "code",
   "execution_count": 3,
   "id": "e395db63-c705-4537-b2c0-ece824453eb2",
   "metadata": {},
   "outputs": [],
   "source": [
    "#декоратор метода класса\n",
    "import time\n",
    "\n",
    "def time_calculation(func):\n",
    "    def wrapper(self): \n",
    "        start_time = time.perf_counter()\n",
    "        result = func(self)\n",
    "        end_time = time.perf_counter()\n",
    "        elapsed_time = end_time - start_time\n",
    "        result[\"overall_time\"] = f\"{elapsed_time:.6f} секунд.\"\n",
    "        return result\n",
    "    return wrapper"
   ]
  },
  {
   "cell_type": "code",
   "execution_count": 20,
   "id": "ce289c21-f197-472e-b5e6-c42b1643d344",
   "metadata": {},
   "outputs": [
    {
     "name": "stdout",
     "output_type": "stream",
     "text": [
      "Вычисление: area. Результат: Площадь = 259.81, Время выполнения: 0.000017 секунд.\n",
      "Вычисление: perimeter. Результат: Периметр = 60, Время выполнения: 0.000003 секунд.\n"
     ]
    }
   ],
   "source": [
    "#все вместе\n",
    "def check_polygon(cls):\n",
    "    \n",
    "    def check(self, side_length, num_sides):\n",
    "        if num_sides < 3 or side_length <= 0:\n",
    "            return {\"error\": \"Количество сторон должно быть не меньше 3, а длина стороны больше 0.\"}\n",
    "\n",
    "    return cls\n",
    "\n",
    "def time_calculation(func):\n",
    "    def wrapper(self):\n",
    "        start_time = time.perf_counter()\n",
    "        result = func(self)\n",
    "        end_time = time.perf_counter()\n",
    "        elapsed_time = end_time - start_time\n",
    "        result[\"overall_time\"] = f\"{elapsed_time:.6f} секунд.\"\n",
    "        result[\"calculation\"] = func.__name__\n",
    "        return result\n",
    "    return wrapper\n",
    "\n",
    "\n",
    "@check_polygon\n",
    "class your_polygon:\n",
    "    def __init__(self, side_length, num_sides):\n",
    "        self.side_length = side_length\n",
    "        self.num_sides = num_sides\n",
    "\n",
    "    @time_calculation\n",
    "    def area(self):\n",
    "        apothem = self.side_length / (2 * math.tan(math.pi / self.num_sides))\n",
    "        area = 0.5 * self.num_sides * self.side_length * apothem\n",
    "        return {\"area\": f\"{area:.2f}\"}\n",
    "\n",
    "    @time_calculation\n",
    "    def perimeter(self):\n",
    "        perimeter = self.num_sides * self.side_length\n",
    "        return {\"perimeter\": f\"{perimeter}\"}\n",
    "\n",
    "hexagon = your_polygon(10, 6)\n",
    "area_results = hexagon.area()\n",
    "print(f\"Вычисление: {area_results['calculation']}. Результат: Площадь = {area_results['area']}, Время выполнения: {area_results['overall_time']}\")\n",
    "\n",
    "perimeter_results = hexagon.perimeter()\n",
    "print(f\"Вычисление: {perimeter_results['calculation']}. Результат: Периметр = {perimeter_results['perimeter']}, Время выполнения: {perimeter_results['overall_time']}\")"
   ]
  },
  {
   "cell_type": "code",
   "execution_count": null,
   "id": "63965e8e-4f1e-465d-9c2b-048451772997",
   "metadata": {},
   "outputs": [],
   "source": []
  }
 ],
 "metadata": {
  "kernelspec": {
   "display_name": "Python 3 (ipykernel)",
   "language": "python",
   "name": "python3"
  },
  "language_info": {
   "codemirror_mode": {
    "name": "ipython",
    "version": 3
   },
   "file_extension": ".py",
   "mimetype": "text/x-python",
   "name": "python",
   "nbconvert_exporter": "python",
   "pygments_lexer": "ipython3",
   "version": "3.12.4"
  }
 },
 "nbformat": 4,
 "nbformat_minor": 5
}
