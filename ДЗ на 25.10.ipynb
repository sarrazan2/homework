{
 "cells": [
  {
   "cell_type": "code",
   "execution_count": 80,
   "id": "7b7c8b44-90ba-4ca0-994e-c9afdad228c5",
   "metadata": {},
   "outputs": [
    {
     "name": "stdout",
     "output_type": "stream",
     "text": [
      "Кеша поет.\n",
      "Кеша знает 100 слов.\n"
     ]
    }
   ],
   "source": [
    "class Bird:\n",
    "    def __init__(self, name, species):\n",
    "        self.name = name \n",
    "        self.species = species \n",
    "\n",
    "    def sing(self):\n",
    "        return f\"{self.name} поет.\" \n",
    "\n",
    "\n",
    "class Parrot(Bird):\n",
    "    def __init__(self, name, species, vocabulary_size):\n",
    "        super().__init__(name, species) \n",
    "        self.vocabulary_size = vocabulary_size \n",
    "\n",
    "    def talk(self):\n",
    "        return f\"{self.name} знает {self.vocabulary_size} слов.\" \n",
    "\n",
    "my_parrot = Parrot(\"Кеша\", \"Попугай\", 100)\n",
    "print(my_parrot.sing())\n",
    "print(my_parrot.talk()) \n"
   ]
  },
  {
   "cell_type": "code",
   "execution_count": 92,
   "id": "9b74867f-970c-43c1-9f6b-a4df17ce3176",
   "metadata": {},
   "outputs": [],
   "source": [
    "import tkinter as tk\n",
    "\n",
    "def clicks():\n",
    "    global click_count\n",
    "    click_count += 1\n",
    "    if click_count % 2 != 0:\n",
    "        label.config(text=\"Хорошего дня!\", fg=\"green\")\n",
    "    else:\n",
    "        label.config(text=\"Успеха!\", fg=\"purple\")\n",
    "\n",
    "root = tk.Tk()\n",
    "root.geometry(\"400x600\")\n",
    "root.title(\"Кнопка настроения\")\n",
    "\n",
    "click_count = 0\n",
    "\n",
    "button = tk.Button(root, text=\"Нажми меня\", bg=\"pink\", command=on_button_click)\n",
    "button.pack(pady=40)\n",
    "button.config(cursor=\"hand2\")\n",
    "\n",
    "\n",
    "label = tk.Label(root, text=\"\", font=(\"Arial\", 18))\n",
    "label.pack(pady=20)\n",
    "\n",
    "root.mainloop()"
   ]
  }
 ],
 "metadata": {
  "kernelspec": {
   "display_name": "Python 3 (ipykernel)",
   "language": "python",
   "name": "python3"
  },
  "language_info": {
   "codemirror_mode": {
    "name": "ipython",
    "version": 3
   },
   "file_extension": ".py",
   "mimetype": "text/x-python",
   "name": "python",
   "nbconvert_exporter": "python",
   "pygments_lexer": "ipython3",
   "version": "3.12.4"
  }
 },
 "nbformat": 4,
 "nbformat_minor": 5
}
