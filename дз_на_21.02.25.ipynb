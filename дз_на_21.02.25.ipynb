{
 "cells": [
  {
   "cell_type": "code",
   "execution_count": 29,
   "id": "69dcb7f2-cef0-4ea9-a7c5-3fe83a0d2913",
   "metadata": {},
   "outputs": [
    {
     "name": "stdout",
     "output_type": "stream",
     "text": [
      "2\n",
      "3\n",
      "-1\n"
     ]
    }
   ],
   "source": [
    "def who_is_judge(n, trust):\n",
    "    \n",
    "  out_edges = [0] * n\n",
    "  in_edges = [0] * n\n",
    "\n",
    "  for i, j in trust:\n",
    "    out_edges[i - 1] += 1 # скольким доверяет человек\n",
    "    in_edges[j - 1] += 1 # сколько доверяют ему\n",
    "\n",
    "  for i in range(n):\n",
    "    if in_edges[i] == n - 1 and out_edges[i] == 0:\n",
    "      return i + 1 \n",
    "\n",
    "  return -1\n",
    "\n",
    "print(who_is_judge(2, [[1, 2]]))\n",
    "print(who_is_judge(3, [[1, 3], [2, 3]]))\n",
    "print(who_is_judge(3, [[1, 3], [2, 3], [3, 1]]))"
   ]
  },
  {
   "cell_type": "code",
   "execution_count": 27,
   "id": "aa5a28f7-befe-4176-95ca-37d824382257",
   "metadata": {},
   "outputs": [
    {
     "name": "stdout",
     "output_type": "stream",
     "text": [
      "False\n",
      "True\n",
      "False\n"
     ]
    }
   ],
   "source": [
    "from collections import defaultdict\n",
    "\n",
    "def can_rearrange_cities(cities):\n",
    "    out_degree = defaultdict(int)  # количество выходящих рёбер\n",
    "    in_degree = defaultdict(int)   # количество входящих рёбер\n",
    "    graph = defaultdict(list)      # список смежности\n",
    "\n",
    "    for city in cities:\n",
    "        start = city[0]\n",
    "        end = city[-1]\n",
    "        out_degree[start] += 1\n",
    "        in_degree[end] += 1\n",
    "        graph[start].append(end)\n",
    "\n",
    "    start_excess = 0\n",
    "    end_excess = 0\n",
    "    \n",
    "    all_letters = set(out_degree.keys()).union(in_degree.keys())\n",
    "    \n",
    "    for letter in all_letters:\n",
    "        out_count = out_degree[letter]\n",
    "        in_count = in_degree[letter]\n",
    "        \n",
    "        if out_count - in_count == 1:\n",
    "            start_excess += 1\n",
    "        elif in_count - out_count == 1:\n",
    "            end_excess += 1\n",
    "        elif out_count != in_count:\n",
    "            return False\n",
    "\n",
    "    return (start_excess == 0 and end_excess == 0) or (start_excess == 1 and end_excess == 1)\n",
    "\n",
    "cities1 = [\"london\", \"newyork\", \"klin\", \"vienna\"]  \n",
    "cities2 = [\"paris\", \"sydney\", \"york\", \"kyoto\"]  \n",
    "cities3 = [\"paris\", \"london\", \"moscow\"] \n",
    "\n",
    "print(can_rearrange_cities(cities1))\n",
    "print(can_rearrange_cities(cities2)) \n",
    "print(can_rearrange_cities(cities3))"
   ]
  }
 ],
 "metadata": {
  "kernelspec": {
   "display_name": "Python [conda env:base] *",
   "language": "python",
   "name": "conda-base-py"
  },
  "language_info": {
   "codemirror_mode": {
    "name": "ipython",
    "version": 3
   },
   "file_extension": ".py",
   "mimetype": "text/x-python",
   "name": "python",
   "nbconvert_exporter": "python",
   "pygments_lexer": "ipython3",
   "version": "3.12.7"
  }
 },
 "nbformat": 4,
 "nbformat_minor": 5
}
