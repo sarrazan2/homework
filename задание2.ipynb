{
 "cells": [
  {
   "cell_type": "code",
   "execution_count": 155,
   "id": "59c9e5f2-33ce-4fd8-a617-a32875cecfe5",
   "metadata": {},
   "outputs": [
    {
     "name": "stdin",
     "output_type": "stream",
     "text": [
      " 4 5 66 71 1\n"
     ]
    },
    {
     "name": "stdout",
     "output_type": "stream",
     "text": [
      "[5, 4, 71, 66, 1]\n"
     ]
    }
   ],
   "source": [
    "A = list(map(int, input().split()))\n",
    "for i in range(1, len(A), 2): A[i-1], A[i] = A[i], A[i-1]\n",
    "print(A)"
   ]
  },
  {
   "cell_type": "code",
   "execution_count": 117,
   "id": "334e1568-4ab8-4e9b-8c1f-8de7876428ed",
   "metadata": {},
   "outputs": [
    {
     "name": "stdin",
     "output_type": "stream",
     "text": [
      " 4 5 66 1\n"
     ]
    },
    {
     "name": "stdout",
     "output_type": "stream",
     "text": [
      "[1, 4, 5, 66]\n"
     ]
    }
   ],
   "source": [
    "A = list(map(int, input().split()))\n",
    "A.insert(0, A.pop()); print(A)"
   ]
  },
  {
   "cell_type": "code",
   "execution_count": 189,
   "id": "7387d593-3060-4a6b-935d-ead33f516772",
   "metadata": {},
   "outputs": [
    {
     "name": "stdin",
     "output_type": "stream",
     "text": [
      " 4 66 5 7 4\n"
     ]
    },
    {
     "name": "stdout",
     "output_type": "stream",
     "text": [
      "66\n",
      "5\n",
      "7\n"
     ]
    }
   ],
   "source": [
    "A = list(map(int, input().split()))\n",
    "for i1 in range(len(A)):\n",
    "    for i2 in range(len(A)):\n",
    "        if i1 != i2 and A[i1] == A[i2]:\n",
    "            break\n",
    "    else:\n",
    "            print(A[i1])"
   ]
  }
 ],
 "metadata": {
  "kernelspec": {
   "display_name": "Python 3 (ipykernel)",
   "language": "python",
   "name": "python3"
  },
  "language_info": {
   "codemirror_mode": {
    "name": "ipython",
    "version": 3
   },
   "file_extension": ".py",
   "mimetype": "text/x-python",
   "name": "python",
   "nbconvert_exporter": "python",
   "pygments_lexer": "ipython3",
   "version": "3.12.4"
  }
 },
 "nbformat": 4,
 "nbformat_minor": 5
}
