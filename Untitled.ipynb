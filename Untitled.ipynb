{
 "cells": [
  {
   "cell_type": "code",
   "execution_count": 21,
   "id": "0fefc553-75c3-4cb4-9558-eb07e4e9966b",
   "metadata": {},
   "outputs": [
    {
     "name": "stdout",
     "output_type": "stream",
     "text": [
      "p\n",
      "py\n",
      "pyt\n",
      "pyth\n",
      "pytho\n",
      "python\n",
      "pytho\n",
      "pyth\n",
      "pyt\n",
      "py\n",
      "p\n",
      "\n"
     ]
    }
   ],
   "source": [
    "a = 'python'\n",
    "x = 0\n",
    "\n",
    "for i in a:\n",
    "    x += 1\n",
    "    print(a[0:x])\n",
    "    \n",
    "for i in a:\n",
    "    x -= 1\n",
    "    print(a[0:x])"
   ]
  },
  {
   "cell_type": "code",
   "execution_count": 25,
   "id": "9f125c8a-8e36-4b19-9745-97b9f57564d1",
   "metadata": {},
   "outputs": [
    {
     "name": "stdout",
     "output_type": "stream",
     "text": [
      " 6\n"
     ]
    },
    {
     "name": "stdout",
     "output_type": "stream",
     "text": [
      "1\n",
      "3\n",
      "5\n"
     ]
    }
   ],
   "source": [
    "n = int(input())\n",
    "for i in range(1, n+1, 2):\n",
    "    print(i)"
   ]
  },
  {
   "cell_type": "code",
   "execution_count": 32,
   "id": "f41bfb33-fe38-41fe-b46a-b74bba1e346c",
   "metadata": {},
   "outputs": [
    {
     "name": "stdout",
     "output_type": "stream",
     "text": [
      " 6\n"
     ]
    },
    {
     "name": "stdout",
     "output_type": "stream",
     "text": [
      "0b110\n"
     ]
    }
   ],
   "source": [
    "a = int(input())\n",
    "print(bin(a))"
   ]
  },
  {
   "cell_type": "code",
   "execution_count": 34,
   "id": "a87ffd17-ea08-416d-a43e-2c1aa04c905a",
   "metadata": {},
   "outputs": [
    {
     "data": {
      "text/plain": [
       "4"
      ]
     },
     "execution_count": 34,
     "metadata": {},
     "output_type": "execute_result"
    }
   ],
   "source": [
    "1 << 2"
   ]
  },
  {
   "cell_type": "code",
   "execution_count": 48,
   "id": "81563989-bc63-4ba4-9803-c4a87f6159d6",
   "metadata": {},
   "outputs": [
    {
     "data": {
      "text/plain": [
       "2"
      ]
     },
     "execution_count": 48,
     "metadata": {},
     "output_type": "execute_result"
    }
   ],
   "source": [
    "1 << 1"
   ]
  },
  {
   "cell_type": "code",
   "execution_count": 38,
   "id": "0a51ab40-89f0-4716-a844-f933d23104eb",
   "metadata": {},
   "outputs": [
    {
     "data": {
      "text/plain": [
       "8"
      ]
     },
     "execution_count": 38,
     "metadata": {},
     "output_type": "execute_result"
    }
   ],
   "source": [
    "4 << 1"
   ]
  },
  {
   "cell_type": "code",
   "execution_count": 40,
   "id": "cc017550-20e6-45a8-a00a-893dae1e4286",
   "metadata": {},
   "outputs": [
    {
     "data": {
      "text/plain": [
       "2"
      ]
     },
     "execution_count": 40,
     "metadata": {},
     "output_type": "execute_result"
    }
   ],
   "source": [
    "4 >> 1"
   ]
  },
  {
   "cell_type": "code",
   "execution_count": 42,
   "id": "29adc301-f2da-4430-9eda-df2321fc2c81",
   "metadata": {},
   "outputs": [
    {
     "data": {
      "text/plain": [
       "18"
      ]
     },
     "execution_count": 42,
     "metadata": {},
     "output_type": "execute_result"
    }
   ],
   "source": [
    "9<<1"
   ]
  },
  {
   "cell_type": "code",
   "execution_count": 73,
   "id": "62a23269-a4a1-4354-8278-63257c4f7fa9",
   "metadata": {},
   "outputs": [
    {
     "data": {
      "text/plain": [
       "4"
      ]
     },
     "execution_count": 73,
     "metadata": {},
     "output_type": "execute_result"
    }
   ],
   "source": [
    "8>>1"
   ]
  },
  {
   "cell_type": "code",
   "execution_count": 46,
   "id": "7b990f9b-71f8-4454-b0b2-d4f1225285b0",
   "metadata": {},
   "outputs": [
    {
     "data": {
      "text/plain": [
       "48"
      ]
     },
     "execution_count": 46,
     "metadata": {},
     "output_type": "execute_result"
    }
   ],
   "source": [
    "12<<2"
   ]
  },
  {
   "cell_type": "code",
   "execution_count": 56,
   "id": "edf9035b-6fd0-4b11-9fb9-c95549566656",
   "metadata": {},
   "outputs": [
    {
     "data": {
      "text/plain": [
       "'0xc9'"
      ]
     },
     "execution_count": 56,
     "metadata": {},
     "output_type": "execute_result"
    }
   ],
   "source": [
    "hex(201)"
   ]
  },
  {
   "cell_type": "code",
   "execution_count": 58,
   "id": "382b5e08-012d-4101-8e39-508cf6904836",
   "metadata": {},
   "outputs": [
    {
     "data": {
      "text/plain": [
       "'0o1747'"
      ]
     },
     "execution_count": 58,
     "metadata": {},
     "output_type": "execute_result"
    }
   ],
   "source": [
    "oct(999)"
   ]
  },
  {
   "cell_type": "code",
   "execution_count": 75,
   "id": "f8182313-1cb5-4cab-8320-34ce0080c521",
   "metadata": {},
   "outputs": [
    {
     "name": "stdout",
     "output_type": "stream",
     "text": [
      "[0, 4, 16, 36, 64]\n"
     ]
    }
   ],
   "source": [
    "a = [i**2 for i in range(10) if i % 2 == 0]\n",
    "print (a)"
   ]
  },
  {
   "cell_type": "code",
   "execution_count": 91,
   "id": "663d7697-51d8-474e-97c6-0480ec738af4",
   "metadata": {},
   "outputs": [
    {
     "name": "stdout",
     "output_type": "stream",
     "text": [
      "[1, 2, 3, 4, 7, 4, 3]\n"
     ]
    }
   ],
   "source": [
    "a = 'a1gtrr234rlmb74nf3'\n",
    "b = [int(i) for i in a if '0' <= i <= '9']\n",
    "print (b)"
   ]
  },
  {
   "cell_type": "code",
   "execution_count": 109,
   "id": "501fec0b-6356-43dd-94e7-60ff0ba0b864",
   "metadata": {},
   "outputs": [
    {
     "name": "stdout",
     "output_type": "stream",
     "text": [
      "1 2\n",
      "[55, 1, 2, 2]\n"
     ]
    }
   ],
   "source": [
    "A = [1, 2, 2, 4]\n",
    "A.pop(3)\n",
    "print (min(A), max(A))\n",
    "A.insert(0, 55)\n",
    "print(A)"
   ]
  },
  {
   "cell_type": "code",
   "execution_count": 111,
   "id": "48bfcf58-7dcc-46cb-ab4c-475710f1dca6",
   "metadata": {},
   "outputs": [
    {
     "ename": "IndexError",
     "evalue": "list index out of range",
     "output_type": "error",
     "traceback": [
      "\u001b[1;31m---------------------------------------------------------------------------\u001b[0m",
      "\u001b[1;31mIndexError\u001b[0m                                Traceback (most recent call last)",
      "Cell \u001b[1;32mIn[111], line 3\u001b[0m\n\u001b[0;32m      1\u001b[0m A \u001b[38;5;241m=\u001b[39m []\n\u001b[0;32m      2\u001b[0m \u001b[38;5;28;01mfor\u001b[39;00m i \u001b[38;5;129;01min\u001b[39;00m \u001b[38;5;28mrange\u001b[39m(\u001b[38;5;241m1\u001b[39m, n, \u001b[38;5;241m2\u001b[39m):\n\u001b[1;32m----> 3\u001b[0m     a \u001b[38;5;241m=\u001b[39m A[i]\n\u001b[0;32m      4\u001b[0m     A[i] \u001b[38;5;241m=\u001b[39m A[i\u001b[38;5;241m+\u001b[39m\u001b[38;5;241m1\u001b[39m]\n\u001b[0;32m      5\u001b[0m     A[i\u001b[38;5;241m+\u001b[39m\u001b[38;5;241m1\u001b[39m] \u001b[38;5;241m=\u001b[39m a\n",
      "\u001b[1;31mIndexError\u001b[0m: list index out of range"
     ]
    }
   ],
   "source": [
    "\n",
    "    "
   ]
  },
  {
   "cell_type": "code",
   "execution_count": null,
   "id": "c3a7461e-22f1-4d04-8902-bfb44e5a11f2",
   "metadata": {},
   "outputs": [],
   "source": []
  }
 ],
 "metadata": {
  "kernelspec": {
   "display_name": "Python 3 (ipykernel)",
   "language": "python",
   "name": "python3"
  },
  "language_info": {
   "codemirror_mode": {
    "name": "ipython",
    "version": 3
   },
   "file_extension": ".py",
   "mimetype": "text/x-python",
   "name": "python",
   "nbconvert_exporter": "python",
   "pygments_lexer": "ipython3",
   "version": "3.12.4"
  }
 },
 "nbformat": 4,
 "nbformat_minor": 5
}
