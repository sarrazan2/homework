{
 "cells": [
  {
   "cell_type": "code",
   "execution_count": 4,
   "id": "c375da90-d653-41fc-9115-3939381f7984",
   "metadata": {},
   "outputs": [
    {
     "name": "stdout",
     "output_type": "stream",
     "text": [
      "Результат: True\n",
      "Результат: False\n"
     ]
    }
   ],
   "source": [
    "from collections import defaultdict\n",
    "\n",
    "def bipartition(n: int, dislikes: list[list[int]]):\n",
    "    graph = defaultdict(list)\n",
    "    for a, b in dislikes:\n",
    "        graph[a].append(b)\n",
    "        graph[b].append(a)\n",
    "\n",
    "    return check(graph)\n",
    "\n",
    "\n",
    "def dfs(graph, node, colors=None, color=0):\n",
    "    if colors is None:\n",
    "        colors = {}\n",
    "\n",
    "    if node in colors:\n",
    "        return colors[node] == color\n",
    "\n",
    "    colors[node] = color\n",
    "\n",
    "    for neighbor in graph[node]:\n",
    "        if not dfs(graph, neighbor, colors, 1 - color):\n",
    "            return False\n",
    "\n",
    "    return True\n",
    "\n",
    "def check(graph):\n",
    "    colors = {}\n",
    "    for node in graph:\n",
    "        if node not in colors:\n",
    "            if not dfs(graph, node, colors):\n",
    "                return False\n",
    "    return True\n",
    "\n",
    "n1 = 4\n",
    "dislikes1 = [[1, 2], [1, 3], [2, 4]]\n",
    "result1 = bipartition(n1, dislikes1)\n",
    "print(f\"Результат: {result1}\")\n",
    "\n",
    "n2 = 3\n",
    "dislikes2 = [[1, 2], [1, 3], [2, 3]]\n",
    "result2 = bipartition(n2, dislikes2)\n",
    "print(f\"Результат: {result2}\")"
   ]
  },
  {
   "cell_type": "code",
   "execution_count": null,
   "id": "e6d57ec2-4744-4dc0-a7e4-6ebd2dd95a13",
   "metadata": {},
   "outputs": [],
   "source": []
  }
 ],
 "metadata": {
  "kernelspec": {
   "display_name": "Python [conda env:base] *",
   "language": "python",
   "name": "conda-base-py"
  },
  "language_info": {
   "codemirror_mode": {
    "name": "ipython",
    "version": 3
   },
   "file_extension": ".py",
   "mimetype": "text/x-python",
   "name": "python",
   "nbconvert_exporter": "python",
   "pygments_lexer": "ipython3",
   "version": "3.12.7"
  }
 },
 "nbformat": 4,
 "nbformat_minor": 5
}
